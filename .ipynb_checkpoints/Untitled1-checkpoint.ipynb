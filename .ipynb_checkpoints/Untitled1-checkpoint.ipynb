{
 "cells": [
  {
   "cell_type": "code",
   "execution_count": 2,
   "id": "87d58bfe-96ec-4210-9287-dfaf2772badb",
   "metadata": {},
   "outputs": [],
   "source": [
    "import pandas as pd\n",
    "import requests\n",
    "import bs4 as BeautifulSoup\n",
    "from bs4 import BeautifulSoup"
   ]
  },
  {
   "cell_type": "code",
   "execution_count": 3,
   "id": "dd1cb6e1-89ce-4ab0-a8c8-f264f21a06c8",
   "metadata": {},
   "outputs": [],
   "source": [
    "url = \"https://www.hkifa.org.hk/eng/associate-members.aspx\""
   ]
  },
  {
   "cell_type": "code",
   "execution_count": 4,
   "id": "ecc8000a-870d-4b79-a7df-9207cd2a7a54",
   "metadata": {},
   "outputs": [],
   "source": [
    "page = requests.get(url)"
   ]
  },
  {
   "cell_type": "code",
   "execution_count": 5,
   "id": "8c01d6ef-dd16-4c3c-862c-524a7af5a3bc",
   "metadata": {},
   "outputs": [],
   "source": [
    "soup = BeautifulSoup(page.content, 'html.parser')"
   ]
  },
  {
   "cell_type": "code",
   "execution_count": 6,
   "id": "ef6ea593-5696-47ac-b185-3b70b90287b4",
   "metadata": {},
   "outputs": [],
   "source": [
    "ele = soup.findAll(attrs = {'class': 'special2'})"
   ]
  },
  {
   "cell_type": "code",
   "execution_count": 104,
   "id": "6a42d5fb-126e-4334-a9b6-369854a80ef7",
   "metadata": {},
   "outputs": [
    {
     "name": "stdout",
     "output_type": "stream",
     "text": [
      "{0: {'Name': 'Akin Gump Strauss Hauer & Feld LLP'}}\n",
      "{0: {'Tel.': [' (852) 3694.3000']}}\n",
      "{0: {'Fax': [' (852) 3694.3001']}}\n",
      "{0: {'Email': ['hongkonginfo@akingump.com']}}\n",
      "{0: {'Website': 'http//www.akingump.com'}}\n",
      "{0: {'Name': 'Allen & Overy'}}\n",
      "{0: {'Tel.': [' (852) 2974 7000']}}\n",
      "{0: {'Fax': [' (852)2974 6999']}}\n",
      "{0: {'Email': ['https', '//www.allenovery.com']}}\n",
      "{0: {'Website': ' Arendt and Medernach, Hong Kong'}}\n",
      "{0: {'Name': [' (852) 2801 5808']}}\n",
      "{0: {'Tel.': [' (852) 2801 5818']}}\n",
      "{0: {'Fax': 'http//www.arendt.com'}}\n"
     ]
    }
   ],
   "source": [
    "f = ele[0].text.replace('\\t', \" \")\n",
    "h = f.replace('\\xa0', \"\").split(\"  \")\n",
    "h.pop(0)\n",
    "h.pop()\n",
    "h.pop(1)\n",
    "h.pop(0)\n",
    "t = h[4].split(\" \")\n",
    "a =(\" \").join(t[2:])\n",
    "for y in range(2, len(t)-1):\n",
    "    t.pop(y)\n",
    "t.append(a)\n",
    "t.pop(0)\n",
    "t.pop(1)\n",
    "p = h.pop(4)\n",
    "h.insert(4, t[0])\n",
    "h.insert(5, t[1])\n",
    "data = {}\n",
    "cols = ['Name', 'Tel.', 'Fax', 'Email', 'Website']\n",
    "r = 0\n",
    "for i in h:\n",
    "    k = i.split(\":\")\n",
    "    if len(k) >1:\n",
    "        if k[1] == \"http\":\n",
    "            data = {0: {cols[r]: (\"\").join(k[1:])}}\n",
    "        else:\n",
    "            data = {0: {cols[r]: (\"\").join(k[1:])}}\n",
    "    else:\n",
    "       data = {0: {cols[r]: k[0]}}\n",
    "    print(data)\n",
    "    r += 1\n",
    "    if r >= 5:\n",
    "       r = 0"
   ]
  },
  {
   "cell_type": "markdown",
   "id": "72ce7ef8-8405-49ab-959a-09f8082fd0a7",
   "metadata": {},
   "source": []
  },
  {
   "cell_type": "code",
   "execution_count": 71,
   "id": "ac957e7a-1319-4ffd-b0b5-59f007289f53",
   "metadata": {},
   "outputs": [
    {
     "name": "stdout",
     "output_type": "stream",
     "text": [
      "['', ' A', '', 'Akin Gump Strauss Hauer & Feld LLP', ' Tel.: (852) 3694.3000', ' Fax: (852) 3694.3001', ' e-mail:hongkonginfo@akingump.com', ' Website:http://www.akingump.com Allen & Overy', ' Tel.: (852) 2974 7000', ' Fax: (852)2974 6999', ' Website:https://www.allenovery.com', ' Arendt and Medernach, Hong Kong', ' Tel.: (852) 2801 5808', ' Fax: (852) 2801 5818', ' Website:http://www.arendt.com', ' ']\n",
      "['', ' B', '', 'Baillie Gifford Asia (Hong Kong) Limited', ' Tel.: (852) 3756 5700', ' Fax: (852) 2151 0520', ' Website:http://www.bailliegifford.com Baker & McKenzie', ' Tel.: (852) 2846 1888', ' Fax: (852) 2845 0476', ' Website:https://www.bakermckenzie.com/en/locations/asia-pacific/china/hong-kong', ' Bank Consortium Trust Co.', ' Tel.: (852) 2298 9800', ' Fax: (852) 2520 0303', ' e-mail:bct@bcthk.com', ' Website:http://www.bcthk.com BOCI-Prudential Trustee Limited', ' Tel.: (852)2290 1000', ' Fax: (852) 2516 6757', ' Website:http://www.bocpt.com', ' Brown Brothers Harriman (Hong Kong)Limited', ' Tel.: (852) 3756 1600', ' Fax: (852) 3756 1799', ' e-mail:Scott.McLaren@bbh.com', ' Website:http://www.bbh.com', ' ']\n",
      "['', ' C', '', 'CACEIS Hong Kong Trust Company Limited', ' Tel.: (852) 2826 9844', ' Website: http://www.caceis.com Calastone Hong Kong Limited', ' Tel.: (852) 2805 1051', ' Website: http://www.calastone.com', ' Citibank N.A.', ' Tel.: (852) 2868 8888', ' Fax: (852) 2306 8111', ' Website:http://www.citibank.com.hk Clifford Chance LLP', ' Tel.: (852) (852) 2825 8888', ' Fax: (852) 2825 8800', ' Website:http://www.cliffordchance.com', ' Credit Suisse (Hong Kong) Limited', ' Website:https://www.credit-suisse.com/hk/en.html', ' ']\n",
      "['', ' D', '', 'Deacons', ' Tel.: (852) 2825 9211', ' Fax: (852) 2810 0431', ' e-mail: rory.gallaher@deacons.com.hk', ' Website: http://www.deacons.com.hk Dechert', ' Tel.: (852) 3518 4700', ' Fax: (852) 3518 4777', ' Website: http://www.dechert.com', ' Deutsche Bank AG', ' Tel.: (852) 2203 7351', ' Fax: (852) 2203 7801', ' e-mail:susanna-yk.chan@db.com', ' Website:http://www.db.com', ' ']\n",
      "['', ' E', '', 'Elvinger, Hoss & Prussen', ' Tel.: (852) 2287 1900', ' Fax: (852) 2287 1988', ' e-mail: katiapanichi_hk@ehp.lu', ' Website: http://www.ehp.lu Ernst & Young', ' Tel.: (852) 2846 9888', ' Fax: (852) 2868 4432', ' Website: http://www.ey.com', '']\n",
      "['', ' Euroclear Bank Hong Kong Branch', ' Tel.: (852) 3966 5555', ' Website: http://www.euroclear.com', '', '', 'F', '', ' FTSE Group', ' Tel.: (852) 2164 3200', ' Fax: (852) 2164 3202', ' e-mail: info@ftse.com', ' Website: http://www.ftse.com', ' ']\n",
      "['', '', ' H', '', ' Hang Seng Indexes Company Limited', ' Tel.: (852) 2877 0704', ' Fax: (852) 2845 8919', ' e-mail: info@hsi.com.hk', ' Website: http://www.hsi.com.hk HLB Hodgson Impey Cheng Limited', ' Tel.: (852) 2810 8333', ' Fax: (852) 2810 1948', ' e-mail: hic@hic.com.hk', ' Website: http://www.hic.com.hk', ' HSBC Institutional Trust Services (Asia) Limited', ' Tel.: (852) 2847 1100', ' Fax: (852) 2810 5259', ' Website: http://www.hsbcnet.com', ' ']\n",
      "['', ' J', '', 'J.P. Morgan Chase Bank, N.A. Hong Kong Branch', ' Tel.: (852) 2800 1822', ' Fax: (852) 3018 7745', ' ']\n",
      "['', ' K', '', 'King & Wood Mallesons', ' Tel.: (852) 3443 1000', ' Fax: (852) 3443 1299', ' Website: http://www.kwm.com KPMG', ' Tel.: (852) 2522 6022', ' Fax: (852) 2845 2588', ' Website: http://www.kpmg.com.hk', '']\n",
      "['', '', '', '']\n",
      "['', ' M', '', 'Mercer Investment (HK) Limited', ' Tel.: (852) 3476 3800', ' Fax: (852) 2506 4161', ' Website: http://www.mercer.com.hk Morningstar Asia Limited', ' Tel.: (852) 2973 4680', ' Fax: (852) 2801 6310', ' e-mail:hksupport@morningstar.com', ' Website:http://hk.morningstar.com', '']\n",
      "['', ' P', '', 'PricewaterhouseCoopers', ' Tel.: (852) 2289 8888', ' Fax: (852) 2810 9888', ' Website: http://www.pwchk.com', ' ']\n",
      "['', ' R', '', 'RBC Investor Services Trust Hong Kong Limited', ' Tel.: (852) 2978 5656', ' Fax: (852) 2147 2277', ' Website: http://www.rbcis.com', ' ']\n",
      "['', ' S', '', 'Shanghai Pudong Development Bank Co., Ltd.', ' Hong Kong Branch', ' Tel.: (852) 2996 5600', ' Fax: (852) 2996-5500', ' e-mail:enquiry-hk@spdb.com.cn', ' Website: http://www.spdb.com.cn Simmons and Simmons', ' Tel.: (852) 2868 1131', ' Fax: (852) 2810 5040', ' Website: http://www.simmons-simmons.com', ' State Street Bank and Trust Company', ' Tel.: (852) 2840 5388', ' Fax: (852) 2868 1606', ' Website: http://www.statestreet.com', ' ']\n",
      "['', '', '', '']\n"
     ]
    }
   ],
   "source": [
    "for i in ele:\n",
    "    g = i.text.replace('\\t', \" \")\n",
    "    k =g.replace('\\xa0',\"\").split(\"  \")\n",
    "    print(k)"
   ]
  },
  {
   "cell_type": "code",
   "execution_count": null,
   "id": "4c2eba30-7952-4cfa-a7be-c3ceeac74c57",
   "metadata": {},
   "outputs": [],
   "source": []
  }
 ],
 "metadata": {
  "kernelspec": {
   "display_name": "Python 3",
   "language": "python",
   "name": "python3"
  },
  "language_info": {
   "codemirror_mode": {
    "name": "ipython",
    "version": 3
   },
   "file_extension": ".py",
   "mimetype": "text/x-python",
   "name": "python",
   "nbconvert_exporter": "python",
   "pygments_lexer": "ipython3",
   "version": "3.8.2"
  }
 },
 "nbformat": 4,
 "nbformat_minor": 5
}
